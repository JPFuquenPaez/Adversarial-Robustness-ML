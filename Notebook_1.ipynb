{
  "cells": [
    {
      "cell_type": "code",
      "execution_count": 1,
      "metadata": {
        "id": "_FNLmXBHT1Ix"
      },
      "outputs": [],
      "source": [
        "import numpy as np\n",
        "import scipy as sp\n",
        "import matplotlib.pyplot as plt\n",
        "\n",
        "import torch\n",
        "import torch.nn as nn\n",
        "import torch.optim as optim\n",
        "\n",
        "from torchvision import datasets, transforms\n",
        "from torch.utils.data import DataLoader"
      ]
    },
    {
      "cell_type": "markdown",
      "metadata": {
        "id": "k8785huAT1I1"
      },
      "source": [
        "## Introduction\n",
        "\n",
        "As we seek to deploy machine learning systems in the real world, it becomes critical that we examine not only whether the systems don't simply work \"most of the time\", but which are truly robust and reliable. Although many notions of robustness and reliability exist, one particular topic has raised a great deal of interest in recent years: robustness to adversarial examples. More precisely, can we develop classifiers that are robust to (test time) perturbations of their inputs, by an adversary intending to fool the classifier? \n",
        "A few years ago, researchers have shown that neural networks are vulnerable to <em> adversarial examples</em>, i.e. imperceptible variations of natural examples, crafted to deliberately mislead the models.\n",
        "\n",
        "<img width=\"500\" src=\"https://languagelog.ldc.upenn.edu/myl/adversarial-example.png\">\n",
        "\n",
        "The purpose of this project is to teach you how these pertubations are crafted and how can we create robust classifier. \n",
        "\n",
        "[1] Nightmare at test time: robust learning by feature deletion <br>\n",
        "[2] Evasion attacks against machine learning at test time <br>\n",
        "[3] Intriguing properties of neural networks"
      ]
    },
    {
      "cell_type": "code",
      "execution_count": 2,
      "metadata": {
        "id": "q6GMYYC5AG3X"
      },
      "outputs": [],
      "source": [
        "# Un être humain voit toujours un \"panda\" ... alors que le classifieur prédit \"un gibbon\" ... pourtant une petite perturbation"
      ]
    },
    {
      "cell_type": "markdown",
      "metadata": {
        "id": "rcgxdYFaT1I1"
      },
      "source": [
        "## Some introductory notation\n",
        "\n",
        "Let us consider a model $h_\\theta : \\mathcal{X} \\rightarrow \\mathbb{R}^k$ mapping an input $x$, to a vector $h_\\theta(x)$ in $\\mathbb{R}^k$ (where $k$ is the number of classes being predicted). $h_\\theta(x)$ is called a logit vector of the model $h_\\theta$ where each coordinate can be positive or negative. The $\\theta$ vector represents all the parameters defining this model (for example in a linear model it would represent the slope and the intercept). to get a prediction out of $h_\\theta$ for a given $x$, the classical technique is to output the biggest coordinate of \\begin{equation}\n",
        "\\DeclareMathOperator*{\\argmax}{argmax}\n",
        "\\argmax_{j} h_\\theta(x)_j \n",
        "\\end{equation} where $h_\\theta(x)_j$ denotes the $j$th elements of the vector $h_\\theta(x)$.\n",
        "\n",
        "In order the evaluate the quality of prediction of the model on a given example, we use a loss function $\\ell: \\mathbb{R}^k \\times \\mathbb{Z}_+ \\rightarrow \\mathbb{R}_+$ mapping the model predictions and true labels to a non-negative number. The semantics of this loss function are that the first argument is the model output (logits which can be positive or negative), and the second argument is the _index_ of the true class (that is, a number from 1 to $k$ denoting the index of the true label). Thus, the notation\n",
        "\\begin{equation}\n",
        "\\ell(h_\\theta(x), y)\n",
        "\\end{equation}\n",
        "for $x \\in \\mathcal{X}$ the input and $y \\in \\mathbb{Z}$ the true class, denotes the loss that the classifier achieves in its predictions on $x$, assuming the true class is $y$.  By far the most common form of loss used in machine learning (especially in deep learning) is the cross entropy loss (also sometimes called the softmax loss), defined as\n",
        "\\begin{equation}\n",
        "\\ell(h_\\theta(x), y) = \\log \\left ( \\sum_{j=1}^k \\exp(h_\\theta(x)_j) \\right ) - h_\\theta(x)_y\n",
        "\\end{equation}\n",
        "where $h_\\theta(x)_j$ denotes the $j$th elements of the vector $h_\\theta(x)$.\n",
        "\n",
        "Recall that a common approach to training a classifier is to optimize the _parameters_ $\\theta$, so as to minimize the average loss over some training set $\\{x_i \\in \\mathcal{X}, y_i \\in \\mathbb{Z}\\}$, $i=1,\\ldots,m$, which we write as the optimization problem\n",
        "\\begin{equation}\n",
        "\\DeclareMathOperator*{\\minimize}{minimize}\n",
        "\\minimize_\\theta \\frac{1}{m} \\sum_{i=1}^m \\ell(h_\\theta(x_i), y_i)\n",
        "\\end{equation}\n",
        "which we typically solve by (stochastic) gradient descent.  I.e., for some minibatch $\\mathcal{B} \\subseteq \\{1,\\ldots,m\\}$, we compute the gradient of our loss with respect to the parameters $\\theta$, and make a small adjustment to $\\theta$ in this negative direction\n",
        "\\begin{equation}\n",
        "\\theta := \\theta - \\frac{\\alpha}{|\\mathcal{B}|} \\sum_{i \\in \\mathcal{B}} \\nabla_\\theta \\ell(h_\\theta(x_i), y_i)\n",
        "\\end{equation}\n",
        "where $\\alpha$ is some step size, and we repeat this process for different minibatches covering the entire training set, until the parameters convergence."
      ]
    },
    {
      "cell_type": "markdown",
      "metadata": {
        "id": "x23yruXaT1I2"
      },
      "source": [
        "## Creating an adversarial example\n",
        "\n",
        "To create an adversarial example, instead of adjusting the parameters $\\theta$ with the gradient define above: $\\nabla_\\theta \\ell(h_\\theta(x_i), y_i)$, we are going to adjust the image in order to _maximize_ the loss. Therefore, we want to solve the optimization problem\n",
        "\\begin{equation}\n",
        "\\DeclareMathOperator*{\\maximize}{maximize}\n",
        "\\maximize_{\\hat{x}} \\ell(h_\\theta(\\hat{x}), y)\n",
        "\\end{equation}\n",
        "where $\\hat{x}$ denotes our adversarial example that is attempting to maximize the loss.\n",
        "\n",
        "Of course, we cannot just optimize arbitrarily over $\\hat{x}$ (there do exist, after all, some images that are _not_ pandas, and if we change the image entirely, say to a dog, then it's not particularly impressive that we can \"fool\" the classifier into thinking it's not a panda). So we instead need to ensure that $\\hat{x}$ is close to our original input $x$. By convention, we typically do this by optimizing over the _perturbation_ to $x$, which we will denote $\\delta$\n",
        "\\begin{equation}\n",
        "\\maximize_{\\delta \\in \\Delta} \\ell(h_\\theta(x +\\delta), y)\n",
        "\\end{equation}\n",
        "where $\\Delta$ represents an allowable set of perturbations (typically perturbation that make $x + \\tau$ sufficiently close to $x$).  \n",
        "\n",
        "Characterizing the \"correct\" set of allowable perturbations is actually quite difficult: in theory, we would like $\\Delta$ to capture anything that humans visually feel to be the \"same\" as the original input $x$.  This can include anthing ranging from adding slight amounts of noise, to rotating, translating, scaling, or performing some 3D transformation on the underlying model, or even completely changing the image in the \"non-panda\" locations.  Needless to say, it is not possible to give a mathematically rigorous definition of all the perturbations that _should_ be allowed, but the philosophy behind adversarial examples is that we can consider some _subset_ of the possible space of allowed perturbations, such that by any \"reasonable\" definition, the actual semantic content of the image could not change under this perturbation.\n",
        "\n",
        "A common perturbation set to use, though by no means the only reasonable choice, is the $\\ell_\\infty$ ball, defined by the set\n",
        "\\begin{equation}\n",
        "\\Delta = \\{\\delta : \\|\\delta\\|_\\infty \\leq \\epsilon\\}\n",
        "\\end{equation}\n",
        "where the $\\ell_\\infty$ norm a vector $z$ is defined as\n",
        "\\begin{equation}\n",
        "\\|z\\|_\\infty = \\max_i |z_i|\n",
        "\\end{equation}\n",
        "i.e., we allow the perturbation to have magnitude between $[-\\epsilon, \\epsilon]$ in each of its components (it is a slightly more complex, as we also need to ensure that $x + \\delta$ is also bounded between $[0,1]$ so that it is still a valid image).  "
      ]
    },
    {
      "cell_type": "markdown",
      "metadata": {
        "id": "yXFQ3d_AT1I2"
      },
      "source": [
        "## Binary classification\n",
        "\n",
        "Let's begin first by considering a simplified problem where $h_\\theta$ is a linear classifier (see below) and k=2.  In this case called binary classification, rather than use multi-class cross entropy loss, we'll be adopting the more common approach and using the binary cross entropy, or logistic loss. In this setting, we have our hypothesis function\n",
        "\\begin{equation}\n",
        "h_\\theta(x) = w^T x + b\n",
        "\\end{equation}\n",
        "for $\\theta = \\{w \\in \\mathbb{R}^n, b \\in \\mathbb{R}\\}$, class label $y \\in \\{+1,-1\\}$, and loss function\n",
        "\\begin{equation}\n",
        "\\ell(h_\\theta(x), y) = \\log(1+\\exp(-y\\cdot h_\\theta(x))) \\equiv L(y \\cdot h_\\theta(x))\n",
        "\\end{equation}\n",
        "where for convience below we define the function $L(z) = \\log(1+\\exp(-z))$ which we will use below when discussing how to solve the optimization problems involving this loss.  The semantics of this setup are that for a data point $x$, the classifier predicts class $+1$ with probability\n",
        "\\begin{equation}\n",
        "p(y=+1|x) = \\frac{1}{1 + \\exp(-h_\\theta(x))}.\n",
        "\\end{equation}\n"
      ]
    },
    {
      "cell_type": "markdown",
      "metadata": {
        "id": "h6W4asxRT1I3"
      },
      "source": [
        "### Computing an Adversarial pertubation\n",
        "\n",
        "Let us consider the creation of an adversarial example in the context of binary classification:\n",
        "\\begin{equation}\n",
        "\\DeclareMathOperator*{\\maximize}{maximize}\n",
        "\\maximize_{\\|\\delta\\| \\leq \\epsilon} \\ell(w^T (x+\\delta), y) \\equiv \\maximize_{\\|\\delta\\| \\leq \\epsilon} L(y \\cdot (w^T(x+\\delta) + b)).\n",
        "\\end{equation}\n",
        "The key point we need to make here is that in this setting, it is actually possible to solve this maximization problem exactly. \n",
        "\n",
        "Because the function is monotonic decreasing, if we want to maximize this function applied to a scalar, that is equivalent to just minimizing the scalar quantity.  That is\n",
        "\\begin{equation}\n",
        "\\begin{split}\n",
        "\\DeclareMathOperator*{\\minimize}{minimize}\n",
        "\\max_{\\|\\delta\\| \\leq \\epsilon} L \\left(y \\cdot (w^T(x+\\delta) + b) \\right) & =\n",
        "L\\left( \\min_{\\|\\delta\\| \\leq \\epsilon}  y \\cdot (w^T(x+\\delta) + b) \\right) \\\\\n",
        "& = L\\left(y\\cdot(w^Tx + b) + \\min_{\\|\\delta\\| \\leq \\epsilon} y \\cdot w^T\\delta  \\right)\n",
        "\\end{split}\n",
        "\\end{equation}\n",
        "where we get the second line by just distributing out the linear terms.\n",
        "\n",
        "Thanks to this simplification of the initial problem, we only need to consider how to solve the problem\n",
        "\\begin{equation}\n",
        "\\min_{\\|\\delta\\| \\leq \\epsilon} y \\cdot w^T\\delta.\n",
        "\\end{equation}\n",
        "To get the intuition here, let's just consider the case that $y = +1$, and consider an $\\ell_\\infty$ norm constraint $\\|\\delta\\|_\\infty \\leq \\epsilon$.  Since the $\\ell_\\infty$ norm says that each element in $\\delta$ must have magnitude less than or equal $\\epsilon$, we clearly minimize this quantity when we set $\\delta_i = -\\epsilon$ for $w_i \\geq 0$ and $\\delta_i = \\epsilon$ for $w_i < 0$.  For $y = -1$, we would just flip these quantities.  That is, the optimal solution to the above optimization problem for the $\\ell_\\infty$ norm is given by\n",
        "\\begin{equation}\n",
        "\\delta^\\star = - y \\epsilon \\cdot \\mathrm{sign}(w)\n",
        "\\end{equation}"
      ]
    },
    {
      "cell_type": "markdown",
      "metadata": {
        "id": "_SvwRodvT1I3"
      },
      "source": [
        "### Exercice 1\n",
        "\n",
        "Let's see what this looks like for an actual linear classifier.  In doing so, we can also get a sense of how well traditional linear models might work to also prevent adversarial examples.\n",
        "\n",
        "1. Define and train with gradient descent a linear model using the PyTorch library a binarize version of the MNIST dataset\n",
        "2. Evaluate your model on the train and test dataset \n",
        "3. Create adversarial pertubation on the images of the test set and evaluate the performance of your model <em>under attack</em>\n",
        "4. Evaluate the visibility of the pertubation by ploting the natural image next to the adversarial image \n",
        "5. Make a small analysis and conclusion"
      ]
    },
    {
      "cell_type": "code",
      "execution_count": 3,
      "metadata": {
        "colab": {
          "base_uri": "https://localhost:8080/",
          "height": 431,
          "referenced_widgets": [
            "a5a9fa156d8c47b1a5533c46b72f56a5",
            "a655748bc6fa4b5794e5f325afefba71",
            "21a43684802e417b8fd319e768af118e",
            "126a3ca79d944e689309024e0e6eb1ba",
            "e28f5cdb47ae420893deb584cc440442",
            "235aeda6cb59442085816804e21767ae",
            "11ec0625d6f64b049bb7857295b69ba1",
            "5939f4d99ead44dbb58c5c225c71a9de",
            "0328897db9f74321b0ccc3123afc0c93",
            "9ada9ff55c794466b98e5b32c74ddcc7",
            "b8449f8fe6ba4ca6b1939832cb2e3376",
            "3d3fa09e8afc487287613f4fbd5e3581",
            "195b496a2b554bb8a19fc676858e182c",
            "8eeacea8ccc34f2b92113000aaf59356",
            "02e560d449bc4361b05e5ee969e03627",
            "e2dd0a7acff94faaa04c3d7b0cd61d93",
            "81ad60afdb6c49ee8320cf6b6c717a4b",
            "dfded9ba987343fd8d04846d5e554d7a",
            "fb01be18e4b34f0fb6460715a6f1925c",
            "4a59336462d74719897b0b4904168c89",
            "16479bcb702d4a11846cbd01adbb8613",
            "6025174029b445d497af107e45bcef34",
            "03406a05dc91445cad40bf4c6d554232",
            "8ea2a44e23e04c5b90b4452a52fcca77",
            "e21a856c474646b39349d7255bdd799e",
            "2f63fbe8bea74cacb56410a61cadd959",
            "a84ec37dc00b4705b1a13289ffa0459d",
            "abeb970b67d34ad3b3008c6b95cec0b0",
            "fd478c08f8634d408484de2cb727ac71",
            "1bf798cab20549fcb84ee0a824f7c494",
            "d9e71cd64c3f4d798b87b7b903483da0",
            "1e1a59f79fce4e60ba8a16fcf6385f93",
            "a0f42312fc4b4c06994bf2541bf1a03a",
            "953f4823d42e40da83a95f6c863a7d47",
            "84ad84d823134e85bfe8241336730e91",
            "51e3cb57f8ac40b2b0b2083e7e26b2be",
            "f4fdde410db54532b8272cce7a25edcd",
            "d056784bc5fc4c91ba4f96f026d2a1b3",
            "a6b21f4e19dd4f85a12aa27c1e071090",
            "04666e9c60cf4ac383ead13a4623b65d",
            "0625a4af12d14d4ca86349628ac59b82",
            "6d5623820eca4c5f99e0a31137404fd1",
            "0ef2522ae4ef497981752ec8c03e7684",
            "40194f0c647e4acba4bbae161dba9f47"
          ]
        },
        "id": "fEPn1Fg7T1I4",
        "outputId": "1a9d3d25-3b63-405e-a08c-3f81781c55fa"
      },
      "outputs": [
        {
          "name": "stdout",
          "output_type": "stream",
          "text": [
            "Downloading http://yann.lecun.com/exdb/mnist/train-images-idx3-ubyte.gz\n",
            "Downloading http://yann.lecun.com/exdb/mnist/train-images-idx3-ubyte.gz to ./data/MNIST/raw/train-images-idx3-ubyte.gz\n"
          ]
        },
        {
          "data": {
            "application/vnd.jupyter.widget-view+json": {
              "model_id": "a5a9fa156d8c47b1a5533c46b72f56a5",
              "version_major": 2,
              "version_minor": 0
            },
            "text/plain": [
              "  0%|          | 0/9912422 [00:00<?, ?it/s]"
            ]
          },
          "metadata": {},
          "output_type": "display_data"
        },
        {
          "name": "stdout",
          "output_type": "stream",
          "text": [
            "Extracting ./data/MNIST/raw/train-images-idx3-ubyte.gz to ./data/MNIST/raw\n",
            "\n",
            "Downloading http://yann.lecun.com/exdb/mnist/train-labels-idx1-ubyte.gz\n",
            "Downloading http://yann.lecun.com/exdb/mnist/train-labels-idx1-ubyte.gz to ./data/MNIST/raw/train-labels-idx1-ubyte.gz\n"
          ]
        },
        {
          "data": {
            "application/vnd.jupyter.widget-view+json": {
              "model_id": "3d3fa09e8afc487287613f4fbd5e3581",
              "version_major": 2,
              "version_minor": 0
            },
            "text/plain": [
              "  0%|          | 0/28881 [00:00<?, ?it/s]"
            ]
          },
          "metadata": {},
          "output_type": "display_data"
        },
        {
          "name": "stdout",
          "output_type": "stream",
          "text": [
            "Extracting ./data/MNIST/raw/train-labels-idx1-ubyte.gz to ./data/MNIST/raw\n",
            "\n",
            "Downloading http://yann.lecun.com/exdb/mnist/t10k-images-idx3-ubyte.gz\n",
            "Downloading http://yann.lecun.com/exdb/mnist/t10k-images-idx3-ubyte.gz to ./data/MNIST/raw/t10k-images-idx3-ubyte.gz\n"
          ]
        },
        {
          "data": {
            "application/vnd.jupyter.widget-view+json": {
              "model_id": "03406a05dc91445cad40bf4c6d554232",
              "version_major": 2,
              "version_minor": 0
            },
            "text/plain": [
              "  0%|          | 0/1648877 [00:00<?, ?it/s]"
            ]
          },
          "metadata": {},
          "output_type": "display_data"
        },
        {
          "name": "stdout",
          "output_type": "stream",
          "text": [
            "Extracting ./data/MNIST/raw/t10k-images-idx3-ubyte.gz to ./data/MNIST/raw\n",
            "\n",
            "Downloading http://yann.lecun.com/exdb/mnist/t10k-labels-idx1-ubyte.gz\n",
            "Downloading http://yann.lecun.com/exdb/mnist/t10k-labels-idx1-ubyte.gz to ./data/MNIST/raw/t10k-labels-idx1-ubyte.gz\n"
          ]
        },
        {
          "data": {
            "application/vnd.jupyter.widget-view+json": {
              "model_id": "953f4823d42e40da83a95f6c863a7d47",
              "version_major": 2,
              "version_minor": 0
            },
            "text/plain": [
              "  0%|          | 0/4542 [00:00<?, ?it/s]"
            ]
          },
          "metadata": {},
          "output_type": "display_data"
        },
        {
          "name": "stdout",
          "output_type": "stream",
          "text": [
            "Extracting ./data/MNIST/raw/t10k-labels-idx1-ubyte.gz to ./data/MNIST/raw\n",
            "\n"
          ]
        }
      ],
      "source": [
        "# binary MNIST dataset\n",
        "def load_binary_mnist(split, batch_size):\n",
        "  train = True if split == 'train' else False\n",
        "  dataset = datasets.MNIST(\"./data\", train=split, download=True, transform=transforms.ToTensor())\n",
        "  idx = dataset.targets <= 1\n",
        "  dataset.data = dataset.data[idx]\n",
        "  dataset.targets = dataset.targets[idx]\n",
        "  return DataLoader(dataset, batch_size=batch_size, shuffle=train)\n",
        "\n",
        "batch_size = 100\n",
        "train_loader = load_binary_mnist('train', batch_size)\n",
        "test_loader = load_binary_mnist('test', batch_size)"
      ]
    },
    {
      "cell_type": "code",
      "execution_count": 4,
      "metadata": {
        "id": "3B-jjMD7ZGAm"
      },
      "outputs": [],
      "source": [
        "input_dim = 784\n",
        "# image : 28 x 28 = 784 pixels\n",
        "output_dim = 1\n",
        "coef = 0.001"
      ]
    },
    {
      "cell_type": "code",
      "execution_count": 5,
      "metadata": {
        "id": "kotSpgOIT1I7"
      },
      "outputs": [],
      "source": [
        "# Define your model\n",
        "class Model(torch.nn.Module):  \n",
        "  \n",
        "  def __init__(self):\n",
        "    super(Model, self).__init__()\n",
        "    # code here ...\n",
        "    self.linear = torch.nn.Linear(input_dim, output_dim)\n",
        "    \n",
        "  def forward(self, x):\n",
        "    # code here ...\n",
        "    outputs = self.linear(x)\n",
        "    return outputs\n",
        "\n",
        "\n",
        "model = Model()\n"
      ]
    },
    {
      "cell_type": "code",
      "execution_count": 7,
      "metadata": {
        "id": "cE75t0oaSj-H"
      },
      "outputs": [],
      "source": [
        "# define your loss\n",
        "# défintion de la fonction qui permet de déterminer l'erreur entre la prédiction et la réalité\n",
        "# criterion = # code here ...\n",
        "criterion = nn.BCEWithLogitsLoss()"
      ]
    },
    {
      "cell_type": "code",
      "execution_count": null,
      "metadata": {
        "id": "Ozu5KveCasXT"
      },
      "outputs": [],
      "source": []
    },
    {
      "cell_type": "code",
      "execution_count": 10,
      "metadata": {
        "id": "LeBtYLMuSUzX"
      },
      "outputs": [],
      "source": [
        "# define your optimizer\n",
        "# l'optimiseur, la Descente de Gradian ici, permet de réduire l'erreur, la fonction d'erreur la Loss, entre la prédiction et la réalité, en changeant les paramètres\n",
        "# opt = # code here ...\n",
        "\n",
        "opt = optim.SGD(model.parameters(), lr=0.01, momentum=0.9)"
      ]
    },
    {
      "cell_type": "code",
      "execution_count": 28,
      "metadata": {
        "colab": {
          "base_uri": "https://localhost:8080/"
        },
        "id": "YngFM3nDSLNk",
        "outputId": "81e7d062-94ee-47fc-f76a-92f328b67d0b"
      },
      "outputs": [
        {
          "name": "stdout",
          "output_type": "stream",
          "text": [
            "tensor(0.0034, grad_fn=<BinaryCrossEntropyWithLogitsBackward0>)\n",
            "tensor(0.0031, grad_fn=<BinaryCrossEntropyWithLogitsBackward0>)\n",
            "tensor(0.0011, grad_fn=<BinaryCrossEntropyWithLogitsBackward0>)\n",
            "tensor(0.0093, grad_fn=<BinaryCrossEntropyWithLogitsBackward0>)\n",
            "tensor(0.0007, grad_fn=<BinaryCrossEntropyWithLogitsBackward0>)\n",
            "tensor(0.0601, grad_fn=<BinaryCrossEntropyWithLogitsBackward0>)\n",
            "tensor(0.0555, grad_fn=<BinaryCrossEntropyWithLogitsBackward0>)\n",
            "tensor(0.0005, grad_fn=<BinaryCrossEntropyWithLogitsBackward0>)\n",
            "tensor(0.0050, grad_fn=<BinaryCrossEntropyWithLogitsBackward0>)\n",
            "tensor(0.0022, grad_fn=<BinaryCrossEntropyWithLogitsBackward0>)\n"
          ]
        }
      ],
      "source": [
        "epochs = 10\n",
        "# train your model . Nombre de fois on regarde mon datdaset en entier\n",
        "# On recalibre plusieurs fois (nb d'epochs) les paramètres du modèle par rapport aux données d'entrainement. Avanatge : on recalibre bien, inconvénient : temps de traitement\n",
        "# on va prendre des petits bouts de dataset loss(criterion)\n",
        "# on calcule l'output\n",
        "# on calcule la loss\n",
        "# optimizer.step\n",
        "# loss backward\n",
        "\n",
        "for epoch in range(epochs):\n",
        "  for batch_n, (imgs, labels) in enumerate(train_loader):\n",
        "    opt.zero_grad() #on reinitialise\n",
        "    outputs=model(imgs.view(-1,784))[:,0] # il ya 100 vecteur, taille 784 et le reste est On a un chiffre entre les 2 infiini\n",
        "    loss = criterion(outputs, labels.float())\n",
        "    loss.backward()\n",
        "    opt.step()\n",
        "  print(loss)"
      ]
    },
    {
      "cell_type": "code",
      "execution_count": 29,
      "metadata": {
        "colab": {
          "base_uri": "https://localhost:8080/"
        },
        "id": "fvgHd9cuT1I-",
        "outputId": "0f8330b2-712a-4486-b5fb-41898d2cc852"
      },
      "outputs": [
        {
          "name": "stdout",
          "output_type": "stream",
          "text": [
            "tensor(0.9987)\n"
          ]
        }
      ],
      "source": [
        "# evalutation on test set\n",
        "accuracy = 0.\n",
        "n_inputs = 0.\n",
        "correct = 0.\n",
        "for n_batch, (imgs, labels) in enumerate(test_loader):\n",
        "  n_inputs+=imgs.shape[0]\n",
        "  # code here ...\n",
        "  outputs=model(imgs.view(-1,784))[:,0]\n",
        "  # cde : vérif si les Outputs \"collent\" avec les Labels\n",
        "  outputs = (outputs>0).float()\n",
        "  correct+= (outputs == labels).float().sum()\n",
        "print(correct/n_inputs)"
      ]
    },
    {
      "cell_type": "code",
      "execution_count": 13,
      "metadata": {
        "id": "72nK0TtJJM75"
      },
      "outputs": [],
      "source": [
        "#Accuracy\n",
        "# https://stackoverflow.com/questions/51503851/calculate-the-accuracy-every-epoch-in-pytorch\n",
        "    #output = (output>0.5).float()\n",
        "    #correct = (output == labels).float().sum()\n",
        "    #print(\"Epoch {}/{}, Loss: {:.3f}, Accuracy: {:.3f}\".format(epoch+1,num_epochs, loss.data[0], correct/x.shape[0]))"
      ]
    },
    {
      "cell_type": "code",
      "execution_count": 45,
      "metadata": {
        "colab": {
          "base_uri": "https://localhost:8080/",
          "height": 265
        },
        "id": "xs3dUPwaT1JA",
        "outputId": "ce1833bb-e97b-46c6-dd5a-6a64400d8aad"
      },
      "outputs": [
        {
          "data": {
            "image/png": "[encoded data removed]",
            "text/plain": [
              "<Figure size 432x288 with 1 Axes>"
            ]
          },
          "metadata": {
            "needs_background": "light"
          },
          "output_type": "display_data"
        }
      ],
      "source": [
        "# compute and plot the adversairal pertubation\n",
        "eps = 0.1 # eps = 0.2 \n",
        "delta = eps * model.linear.weight.detach().sign()\n",
        "plt.imshow(1-delta.reshape(28, 28), cmap=\"gray\")\n",
        "plt.show()"
      ]
    },
    {
      "cell_type": "markdown",
      "metadata": {
        "id": "JG2Qe4aMKUId"
      },
      "source": [
        "A quoi correspond cette image ? c'est un \"1\" (chiffre un) ?"
      ]
    },
    {
      "cell_type": "code",
      "execution_count": null,
      "metadata": {
        "id": "Z75aAxYsG6ok"
      },
      "outputs": [],
      "source": [
        "# ? Après la perturbation, pour un humain, pas de différence, en testant plusieurs caleur \"eps\""
      ]
    },
    {
      "cell_type": "code",
      "execution_count": 46,
      "metadata": {
        "id": "n4rUG-EoT1JD"
      },
      "outputs": [],
      "source": [
        "# [CELL ID] 11\n",
        "\n",
        "# make an evaluation \"under attack\"\n",
        "accuracy = 0.\n",
        "n_inputs = 0.\n",
        "for n_batch, (imgs, labels) in enumerate(test_loader):\n",
        "  # code here ...\n",
        "  imgs.view(-1,784)+(2*labels.view(-1,1)-1)*delta"
      ]
    },
    {
      "cell_type": "code",
      "execution_count": 47,
      "metadata": {
        "colab": {
          "base_uri": "https://localhost:8080/"
        },
        "id": "0faWvVfZNfuz",
        "outputId": "6a749896-7917-4d0f-c6ba-8ad6e0eeac68"
      },
      "outputs": [
        {
          "name": "stdout",
          "output_type": "stream",
          "text": [
            "tensor(0.9668)\n"
          ]
        }
      ],
      "source": [
        "accuracy = 0.\n",
        "n_inputs = 0.\n",
        "correct = 0.\n",
        "for n_batch, (imgs, labels) in enumerate(test_loader):\n",
        "  n_inputs+=imgs.shape[0]\n",
        "  # code here ...\n",
        "  outputs=model(imgs.view(-1,784)-(2*labels.view(-1,1)-1)*delta)[:,0]\n",
        "  # cde : vérif si les Outputs \"collent\" avec les Labels\n",
        "  outputs = (outputs>0).float()\n",
        "  correct+= (outputs == labels).float().sum()\n",
        "print(correct/n_inputs)"
      ]
    },
    {
      "cell_type": "code",
      "execution_count": null,
      "metadata": {
        "id": "KggsCDiTIYpE"
      },
      "outputs": [],
      "source": [
        "# passage d'une évaluation tensor(0.9987) -> tensor(0.3542)"
      ]
    },
    {
      "cell_type": "code",
      "execution_count": 33,
      "metadata": {
        "colab": {
          "base_uri": "https://localhost:8080/",
          "height": 265
        },
        "id": "ebUf1BxrT1JG",
        "outputId": "226a4e9e-7dd6-4cb6-eced-de056723908e"
      },
      "outputs": [
        {
          "data": {
            "image/png": "[encoded data removed]",
            "text/plain": [
              "<Figure size 432x288 with 1 Axes>"
            ]
          },
          "metadata": {
            "needs_background": "light"
          },
          "output_type": "display_data"
        }
      ],
      "source": [
        "plt.imshow(1-delta.reshape(28, 28), cmap=\"gray\")\n",
        "plt.show()"
      ]
    },
    {
      "cell_type": "code",
      "execution_count": 34,
      "metadata": {
        "colab": {
          "base_uri": "https://localhost:8080/"
        },
        "id": "Wbsec2V8T1JK",
        "outputId": "c85155aa-99c7-45a5-d0e6-d48a16c5d9ef"
      },
      "outputs": [
        {
          "data": {
            "text/plain": [
              "tensor([[-0.2000,  0.2000, -0.2000,  0.2000, -0.2000,  0.2000, -0.2000, -0.2000,\n",
              "         -0.2000, -0.2000, -0.2000,  0.2000, -0.2000, -0.2000,  0.2000, -0.2000,\n",
              "          0.2000, -0.2000,  0.2000, -0.2000,  0.2000, -0.2000,  0.2000,  0.2000,\n",
              "          0.2000,  0.2000, -0.2000, -0.2000,  0.2000,  0.2000, -0.2000,  0.2000,\n",
              "          0.2000, -0.2000, -0.2000, -0.2000,  0.2000, -0.2000, -0.2000,  0.2000,\n",
              "          0.2000, -0.2000, -0.2000, -0.2000,  0.2000,  0.2000, -0.2000,  0.2000,\n",
              "         -0.2000,  0.2000,  0.2000, -0.2000,  0.2000, -0.2000, -0.2000,  0.2000,\n",
              "          0.2000, -0.2000,  0.2000,  0.2000,  0.2000,  0.2000, -0.2000,  0.2000,\n",
              "          0.2000,  0.2000, -0.2000, -0.2000, -0.2000,  0.2000,  0.2000, -0.2000,\n",
              "          0.2000,  0.2000,  0.2000, -0.2000,  0.2000, -0.2000, -0.2000,  0.2000,\n",
              "          0.2000, -0.2000, -0.2000,  0.2000,  0.2000,  0.2000, -0.2000, -0.2000,\n",
              "         -0.2000,  0.2000, -0.2000, -0.2000,  0.2000,  0.2000,  0.2000,  0.2000,\n",
              "          0.2000,  0.2000,  0.2000,  0.2000,  0.2000,  0.2000,  0.2000, -0.2000,\n",
              "         -0.2000,  0.2000, -0.2000, -0.2000, -0.2000, -0.2000, -0.2000, -0.2000,\n",
              "         -0.2000, -0.2000,  0.2000,  0.2000,  0.2000, -0.2000, -0.2000, -0.2000,\n",
              "          0.2000,  0.2000,  0.2000,  0.2000,  0.2000,  0.2000,  0.2000,  0.2000,\n",
              "          0.2000,  0.2000, -0.2000,  0.2000,  0.2000,  0.2000,  0.2000,  0.2000,\n",
              "          0.2000, -0.2000, -0.2000,  0.2000, -0.2000, -0.2000, -0.2000,  0.2000,\n",
              "         -0.2000, -0.2000, -0.2000, -0.2000,  0.2000,  0.2000, -0.2000,  0.2000,\n",
              "          0.2000,  0.2000,  0.2000,  0.2000, -0.2000, -0.2000, -0.2000,  0.2000,\n",
              "          0.2000,  0.2000,  0.2000,  0.2000,  0.2000,  0.2000, -0.2000,  0.2000,\n",
              "          0.2000,  0.2000, -0.2000, -0.2000, -0.2000,  0.2000,  0.2000,  0.2000,\n",
              "          0.2000,  0.2000,  0.2000, -0.2000,  0.2000,  0.2000,  0.2000, -0.2000,\n",
              "         -0.2000, -0.2000, -0.2000, -0.2000,  0.2000,  0.2000,  0.2000,  0.2000,\n",
              "          0.2000,  0.2000,  0.2000,  0.2000, -0.2000,  0.2000, -0.2000, -0.2000,\n",
              "         -0.2000,  0.2000,  0.2000,  0.2000,  0.2000, -0.2000, -0.2000, -0.2000,\n",
              "         -0.2000,  0.2000, -0.2000, -0.2000, -0.2000, -0.2000, -0.2000, -0.2000,\n",
              "         -0.2000, -0.2000, -0.2000, -0.2000, -0.2000,  0.2000, -0.2000, -0.2000,\n",
              "         -0.2000, -0.2000,  0.2000,  0.2000, -0.2000, -0.2000,  0.2000,  0.2000,\n",
              "         -0.2000, -0.2000, -0.2000, -0.2000,  0.2000, -0.2000,  0.2000,  0.2000,\n",
              "         -0.2000, -0.2000, -0.2000, -0.2000, -0.2000, -0.2000, -0.2000, -0.2000,\n",
              "         -0.2000,  0.2000, -0.2000, -0.2000,  0.2000,  0.2000,  0.2000,  0.2000,\n",
              "         -0.2000,  0.2000, -0.2000, -0.2000, -0.2000, -0.2000, -0.2000, -0.2000,\n",
              "         -0.2000,  0.2000,  0.2000,  0.2000,  0.2000,  0.2000, -0.2000, -0.2000,\n",
              "         -0.2000, -0.2000, -0.2000, -0.2000, -0.2000, -0.2000, -0.2000, -0.2000,\n",
              "         -0.2000,  0.2000, -0.2000,  0.2000, -0.2000,  0.2000, -0.2000, -0.2000,\n",
              "         -0.2000, -0.2000, -0.2000, -0.2000, -0.2000, -0.2000,  0.2000,  0.2000,\n",
              "          0.2000, -0.2000, -0.2000, -0.2000, -0.2000, -0.2000, -0.2000, -0.2000,\n",
              "         -0.2000,  0.2000, -0.2000, -0.2000, -0.2000, -0.2000,  0.2000,  0.2000,\n",
              "          0.2000,  0.2000, -0.2000, -0.2000, -0.2000, -0.2000, -0.2000, -0.2000,\n",
              "         -0.2000,  0.2000,  0.2000,  0.2000,  0.2000,  0.2000, -0.2000, -0.2000,\n",
              "         -0.2000, -0.2000, -0.2000, -0.2000, -0.2000, -0.2000, -0.2000, -0.2000,\n",
              "         -0.2000, -0.2000, -0.2000,  0.2000,  0.2000, -0.2000, -0.2000, -0.2000,\n",
              "         -0.2000, -0.2000, -0.2000, -0.2000, -0.2000,  0.2000,  0.2000,  0.2000,\n",
              "          0.2000, -0.2000, -0.2000, -0.2000, -0.2000, -0.2000, -0.2000, -0.2000,\n",
              "         -0.2000, -0.2000,  0.2000, -0.2000, -0.2000,  0.2000,  0.2000,  0.2000,\n",
              "          0.2000, -0.2000, -0.2000, -0.2000, -0.2000, -0.2000, -0.2000, -0.2000,\n",
              "         -0.2000,  0.2000,  0.2000,  0.2000,  0.2000, -0.2000, -0.2000, -0.2000,\n",
              "         -0.2000, -0.2000, -0.2000, -0.2000, -0.2000, -0.2000, -0.2000, -0.2000,\n",
              "          0.2000,  0.2000,  0.2000, -0.2000,  0.2000, -0.2000, -0.2000, -0.2000,\n",
              "         -0.2000, -0.2000, -0.2000, -0.2000, -0.2000,  0.2000,  0.2000,  0.2000,\n",
              "          0.2000, -0.2000, -0.2000, -0.2000, -0.2000, -0.2000, -0.2000, -0.2000,\n",
              "         -0.2000, -0.2000, -0.2000,  0.2000,  0.2000, -0.2000,  0.2000,  0.2000,\n",
              "          0.2000, -0.2000, -0.2000, -0.2000, -0.2000, -0.2000, -0.2000, -0.2000,\n",
              "          0.2000,  0.2000,  0.2000,  0.2000,  0.2000, -0.2000, -0.2000, -0.2000,\n",
              "         -0.2000, -0.2000, -0.2000, -0.2000, -0.2000, -0.2000,  0.2000, -0.2000,\n",
              "          0.2000, -0.2000,  0.2000,  0.2000, -0.2000, -0.2000, -0.2000, -0.2000,\n",
              "         -0.2000, -0.2000, -0.2000, -0.2000,  0.2000,  0.2000,  0.2000,  0.2000,\n",
              "         -0.2000, -0.2000, -0.2000, -0.2000, -0.2000, -0.2000, -0.2000, -0.2000,\n",
              "         -0.2000, -0.2000,  0.2000,  0.2000,  0.2000, -0.2000,  0.2000, -0.2000,\n",
              "         -0.2000, -0.2000, -0.2000, -0.2000, -0.2000, -0.2000, -0.2000,  0.2000,\n",
              "          0.2000,  0.2000,  0.2000,  0.2000, -0.2000, -0.2000, -0.2000, -0.2000,\n",
              "         -0.2000, -0.2000, -0.2000, -0.2000,  0.2000, -0.2000,  0.2000, -0.2000,\n",
              "          0.2000,  0.2000,  0.2000, -0.2000, -0.2000, -0.2000, -0.2000, -0.2000,\n",
              "         -0.2000, -0.2000, -0.2000, -0.2000,  0.2000,  0.2000,  0.2000,  0.2000,\n",
              "         -0.2000, -0.2000, -0.2000, -0.2000, -0.2000, -0.2000, -0.2000, -0.2000,\n",
              "          0.2000,  0.2000,  0.2000, -0.2000, -0.2000,  0.2000,  0.2000, -0.2000,\n",
              "         -0.2000, -0.2000, -0.2000, -0.2000, -0.2000, -0.2000, -0.2000,  0.2000,\n",
              "          0.2000,  0.2000,  0.2000,  0.2000, -0.2000, -0.2000, -0.2000, -0.2000,\n",
              "         -0.2000, -0.2000,  0.2000, -0.2000,  0.2000,  0.2000, -0.2000,  0.2000,\n",
              "         -0.2000, -0.2000, -0.2000,  0.2000, -0.2000, -0.2000, -0.2000, -0.2000,\n",
              "         -0.2000, -0.2000, -0.2000, -0.2000,  0.2000,  0.2000,  0.2000,  0.2000,\n",
              "          0.2000, -0.2000, -0.2000,  0.2000,  0.2000, -0.2000,  0.2000,  0.2000,\n",
              "          0.2000,  0.2000,  0.2000, -0.2000, -0.2000, -0.2000,  0.2000,  0.2000,\n",
              "          0.2000,  0.2000,  0.2000,  0.2000,  0.2000, -0.2000, -0.2000, -0.2000,\n",
              "         -0.2000, -0.2000,  0.2000,  0.2000,  0.2000,  0.2000,  0.2000,  0.2000,\n",
              "          0.2000,  0.2000,  0.2000,  0.2000,  0.2000,  0.2000,  0.2000,  0.2000,\n",
              "         -0.2000, -0.2000,  0.2000,  0.2000,  0.2000,  0.2000,  0.2000,  0.2000,\n",
              "          0.2000, -0.2000, -0.2000, -0.2000, -0.2000, -0.2000, -0.2000,  0.2000,\n",
              "          0.2000,  0.2000,  0.2000,  0.2000,  0.2000,  0.2000,  0.2000,  0.2000,\n",
              "          0.2000,  0.2000, -0.2000, -0.2000,  0.2000,  0.2000, -0.2000, -0.2000,\n",
              "          0.2000,  0.2000,  0.2000,  0.2000,  0.2000, -0.2000, -0.2000, -0.2000,\n",
              "         -0.2000, -0.2000, -0.2000, -0.2000,  0.2000, -0.2000, -0.2000,  0.2000,\n",
              "          0.2000,  0.2000, -0.2000,  0.2000,  0.2000,  0.2000, -0.2000,  0.2000,\n",
              "         -0.2000, -0.2000, -0.2000, -0.2000,  0.2000, -0.2000, -0.2000,  0.2000,\n",
              "          0.2000,  0.2000, -0.2000,  0.2000, -0.2000, -0.2000, -0.2000,  0.2000,\n",
              "          0.2000,  0.2000,  0.2000, -0.2000,  0.2000, -0.2000,  0.2000, -0.2000,\n",
              "          0.2000,  0.2000,  0.2000,  0.2000,  0.2000, -0.2000,  0.2000, -0.2000,\n",
              "          0.2000, -0.2000, -0.2000, -0.2000,  0.2000,  0.2000, -0.2000,  0.2000,\n",
              "          0.2000,  0.2000,  0.2000,  0.2000,  0.2000, -0.2000,  0.2000, -0.2000,\n",
              "          0.2000,  0.2000,  0.2000,  0.2000, -0.2000,  0.2000,  0.2000, -0.2000,\n",
              "         -0.2000, -0.2000,  0.2000, -0.2000,  0.2000,  0.2000,  0.2000,  0.2000,\n",
              "         -0.2000,  0.2000, -0.2000, -0.2000, -0.2000,  0.2000,  0.2000,  0.2000,\n",
              "          0.2000,  0.2000, -0.2000, -0.2000,  0.2000,  0.2000,  0.2000, -0.2000,\n",
              "          0.2000, -0.2000,  0.2000,  0.2000, -0.2000,  0.2000, -0.2000,  0.2000,\n",
              "         -0.2000,  0.2000, -0.2000,  0.2000, -0.2000,  0.2000, -0.2000,  0.2000,\n",
              "         -0.2000,  0.2000,  0.2000,  0.2000,  0.2000, -0.2000,  0.2000,  0.2000,\n",
              "          0.2000, -0.2000,  0.2000,  0.2000, -0.2000,  0.2000,  0.2000, -0.2000]])"
            ]
          },
          "execution_count": 34,
          "metadata": {},
          "output_type": "execute_result"
        }
      ],
      "source": [
        "delta"
      ]
    }
  ],
  "metadata": {
    "accelerator": "GPU",
    "colab": {
      "collapsed_sections": [],
      "provenance": []
    },
    "kernelspec": {
      "display_name": "Python 3",
      "language": "python",
      "name": "python3"
    },
    "language_info": {
      "codemirror_mode": {
        "name": "ipython",
        "version": 3
      },
      "file_extension": ".py",
      "mimetype": "text/x-python",
      "name": "python",
      "nbconvert_exporter": "python",
      "pygments_lexer": "ipython3",
      "version": "3.8.5"
    },
    "widgets": {
      "application/vnd.jupyter.widget-state+json": {
        "02e560d449bc4361b05e5ee969e03627": {
          "model_module": "@jupyter-widgets/controls",
          "model_module_version": "1.5.0",
          "model_name": "HTMLModel",
          "state": {
            "_dom_classes": [],
            "_model_module": "@jupyter-widgets/controls",
            "_model_module_version": "1.5.0",
            "_model_name": "HTMLModel",
            "_view_count": null,
            "_view_module": "@jupyter-widgets/controls",
            "_view_module_version": "1.5.0",
            "_view_name": "HTMLView",
            "description": "",
            "description_tooltip": null,
            "layout": "IPY_MODEL_16479bcb702d4a11846cbd01adbb8613",
            "placeholder": "​",
            "style": "IPY_MODEL_6025174029b445d497af107e45bcef34",
            "value": " 28881/28881 [00:00&lt;00:00, 895781.92it/s]"
          }
        },
        "0328897db9f74321b0ccc3123afc0c93": {
          "model_module": "@jupyter-widgets/controls",
          "model_module_version": "1.5.0",
          "model_name": "ProgressStyleModel",
          "state": {
            "_model_module": "@jupyter-widgets/controls",
            "_model_module_version": "1.5.0",
            "_model_name": "ProgressStyleModel",
            "_view_count": null,
            "_view_module": "@jupyter-widgets/base",
            "_view_module_version": "1.2.0",
            "_view_name": "StyleView",
            "bar_color": null,
            "description_width": ""
          }
        },
        "03406a05dc91445cad40bf4c6d554232": {
          "model_module": "@jupyter-widgets/controls",
          "model_module_version": "1.5.0",
          "model_name": "HBoxModel",
          "state": {
            "_dom_classes": [],
            "_model_module": "@jupyter-widgets/controls",
            "_model_module_version": "1.5.0",
            "_model_name": "HBoxModel",
            "_view_count": null,
            "_view_module": "@jupyter-widgets/controls",
            "_view_module_version": "1.5.0",
            "_view_name": "HBoxView",
            "box_style": "",
            "children": [
              "IPY_MODEL_8ea2a44e23e04c5b90b4452a52fcca77",
              "IPY_MODEL_e21a856c474646b39349d7255bdd799e",
              "IPY_MODEL_2f63fbe8bea74cacb56410a61cadd959"
            ],
            "layout": "IPY_MODEL_a84ec37dc00b4705b1a13289ffa0459d"
          }
        },
        "04666e9c60cf4ac383ead13a4623b65d": {
          "model_module": "@jupyter-widgets/controls",
          "model_module_version": "1.5.0",
          "model_name": "DescriptionStyleModel",
          "state": {
            "_model_module": "@jupyter-widgets/controls",
            "_model_module_version": "1.5.0",
            "_model_name": "DescriptionStyleModel",
            "_view_count": null,
            "_view_module": "@jupyter-widgets/base",
            "_view_module_version": "1.2.0",
            "_view_name": "StyleView",
            "description_width": ""
          }
        },
        "0625a4af12d14d4ca86349628ac59b82": {
          "model_module": "@jupyter-widgets/base",
          "model_module_version": "1.2.0",
          "model_name": "LayoutModel",
          "state": {
            "_model_module": "@jupyter-widgets/base",
            "_model_module_version": "1.2.0",
            "_model_name": "LayoutModel",
            "_view_count": null,
            "_view_module": "@jupyter-widgets/base",
            "_view_module_version": "1.2.0",
            "_view_name": "LayoutView",
            "align_content": null,
            "align_items": null,
            "align_self": null,
            "border": null,
            "bottom": null,
            "display": null,
            "flex": null,
            "flex_flow": null,
            "grid_area": null,
            "grid_auto_columns": null,
            "grid_auto_flow": null,
            "grid_auto_rows": null,
            "grid_column": null,
            "grid_gap": null,
            "grid_row": null,
            "grid_template_areas": null,
            "grid_template_columns": null,
            "grid_template_rows": null,
            "height": null,
            "justify_content": null,
            "justify_items": null,
            "left": null,
            "margin": null,
            "max_height": null,
            "max_width": null,
            "min_height": null,
            "min_width": null,
            "object_fit": null,
            "object_position": null,
            "order": null,
            "overflow": null,
            "overflow_x": null,
            "overflow_y": null,
            "padding": null,
            "right": null,
            "top": null,
            "visibility": null,
            "width": null
          }
        },
        "0ef2522ae4ef497981752ec8c03e7684": {
          "model_module": "@jupyter-widgets/base",
          "model_module_version": "1.2.0",
          "model_name": "LayoutModel",
          "state": {
            "_model_module": "@jupyter-widgets/base",
            "_model_module_version": "1.2.0",
            "_model_name": "LayoutModel",
            "_view_count": null,
            "_view_module": "@jupyter-widgets/base",
            "_view_module_version": "1.2.0",
            "_view_name": "LayoutView",
            "align_content": null,
            "align_items": null,
            "align_self": null,
            "border": null,
            "bottom": null,
            "display": null,
            "flex": null,
            "flex_flow": null,
            "grid_area": null,
            "grid_auto_columns": null,
            "grid_auto_flow": null,
            "grid_auto_rows": null,
            "grid_column": null,
            "grid_gap": null,
            "grid_row": null,
            "grid_template_areas": null,
            "grid_template_columns": null,
            "grid_template_rows": null,
            "height": null,
            "justify_content": null,
            "justify_items": null,
            "left": null,
            "margin": null,
            "max_height": null,
            "max_width": null,
            "min_height": null,
            "min_width": null,
            "object_fit": null,
            "object_position": null,
            "order": null,
            "overflow": null,
            "overflow_x": null,
            "overflow_y": null,
            "padding": null,
            "right": null,
            "top": null,
            "visibility": null,
            "width": null
          }
        },
        "11ec0625d6f64b049bb7857295b69ba1": {
          "model_module": "@jupyter-widgets/controls",
          "model_module_version": "1.5.0",
          "model_name": "DescriptionStyleModel",
          "state": {
            "_model_module": "@jupyter-widgets/controls",
            "_model_module_version": "1.5.0",
            "_model_name": "DescriptionStyleModel",
            "_view_count": null,
            "_view_module": "@jupyter-widgets/base",
            "_view_module_version": "1.2.0",
            "_view_name": "StyleView",
            "description_width": ""
          }
        },
        "126a3ca79d944e689309024e0e6eb1ba": {
          "model_module": "@jupyter-widgets/controls",
          "model_module_version": "1.5.0",
          "model_name": "HTMLModel",
          "state": {
            "_dom_classes": [],
            "_model_module": "@jupyter-widgets/controls",
            "_model_module_version": "1.5.0",
            "_model_name": "HTMLModel",
            "_view_count": null,
            "_view_module": "@jupyter-widgets/controls",
            "_view_module_version": "1.5.0",
            "_view_name": "HTMLView",
            "description": "",
            "description_tooltip": null,
            "layout": "IPY_MODEL_9ada9ff55c794466b98e5b32c74ddcc7",
            "placeholder": "​",
            "style": "IPY_MODEL_b8449f8fe6ba4ca6b1939832cb2e3376",
            "value": " 9912422/9912422 [00:00&lt;00:00, 72211829.47it/s]"
          }
        },
        "16479bcb702d4a11846cbd01adbb8613": {
          "model_module": "@jupyter-widgets/base",
          "model_module_version": "1.2.0",
          "model_name": "LayoutModel",
          "state": {
            "_model_module": "@jupyter-widgets/base",
            "_model_module_version": "1.2.0",
            "_model_name": "LayoutModel",
            "_view_count": null,
            "_view_module": "@jupyter-widgets/base",
            "_view_module_version": "1.2.0",
            "_view_name": "LayoutView",
            "align_content": null,
            "align_items": null,
            "align_self": null,
            "border": null,
            "bottom": null,
            "display": null,
            "flex": null,
            "flex_flow": null,
            "grid_area": null,
            "grid_auto_columns": null,
            "grid_auto_flow": null,
            "grid_auto_rows": null,
            "grid_column": null,
            "grid_gap": null,
            "grid_row": null,
            "grid_template_areas": null,
            "grid_template_columns": null,
            "grid_template_rows": null,
            "height": null,
            "justify_content": null,
            "justify_items": null,
            "left": null,
            "margin": null,
            "max_height": null,
            "max_width": null,
            "min_height": null,
            "min_width": null,
            "object_fit": null,
            "object_position": null,
            "order": null,
            "overflow": null,
            "overflow_x": null,
            "overflow_y": null,
            "padding": null,
            "right": null,
            "top": null,
            "visibility": null,
            "width": null
          }
        },
        "195b496a2b554bb8a19fc676858e182c": {
          "model_module": "@jupyter-widgets/controls",
          "model_module_version": "1.5.0",
          "model_name": "HTMLModel",
          "state": {
            "_dom_classes": [],
            "_model_module": "@jupyter-widgets/controls",
            "_model_module_version": "1.5.0",
            "_model_name": "HTMLModel",
            "_view_count": null,
            "_view_module": "@jupyter-widgets/controls",
            "_view_module_version": "1.5.0",
            "_view_name": "HTMLView",
            "description": "",
            "description_tooltip": null,
            "layout": "IPY_MODEL_81ad60afdb6c49ee8320cf6b6c717a4b",
            "placeholder": "​",
            "style": "IPY_MODEL_dfded9ba987343fd8d04846d5e554d7a",
            "value": "100%"
          }
        },
        "1bf798cab20549fcb84ee0a824f7c494": {
          "model_module": "@jupyter-widgets/base",
          "model_module_version": "1.2.0",
          "model_name": "LayoutModel",
          "state": {
            "_model_module": "@jupyter-widgets/base",
            "_model_module_version": "1.2.0",
            "_model_name": "LayoutModel",
            "_view_count": null,
            "_view_module": "@jupyter-widgets/base",
            "_view_module_version": "1.2.0",
            "_view_name": "LayoutView",
            "align_content": null,
            "align_items": null,
            "align_self": null,
            "border": null,
            "bottom": null,
            "display": null,
            "flex": null,
            "flex_flow": null,
            "grid_area": null,
            "grid_auto_columns": null,
            "grid_auto_flow": null,
            "grid_auto_rows": null,
            "grid_column": null,
            "grid_gap": null,
            "grid_row": null,
            "grid_template_areas": null,
            "grid_template_columns": null,
            "grid_template_rows": null,
            "height": null,
            "justify_content": null,
            "justify_items": null,
            "left": null,
            "margin": null,
            "max_height": null,
            "max_width": null,
            "min_height": null,
            "min_width": null,
            "object_fit": null,
            "object_position": null,
            "order": null,
            "overflow": null,
            "overflow_x": null,
            "overflow_y": null,
            "padding": null,
            "right": null,
            "top": null,
            "visibility": null,
            "width": null
          }
        },
        "1e1a59f79fce4e60ba8a16fcf6385f93": {
          "model_module": "@jupyter-widgets/base",
          "model_module_version": "1.2.0",
          "model_name": "LayoutModel",
          "state": {
            "_model_module": "@jupyter-widgets/base",
            "_model_module_version": "1.2.0",
            "_model_name": "LayoutModel",
            "_view_count": null,
            "_view_module": "@jupyter-widgets/base",
            "_view_module_version": "1.2.0",
            "_view_name": "LayoutView",
            "align_content": null,
            "align_items": null,
            "align_self": null,
            "border": null,
            "bottom": null,
            "display": null,
            "flex": null,
            "flex_flow": null,
            "grid_area": null,
            "grid_auto_columns": null,
            "grid_auto_flow": null,
            "grid_auto_rows": null,
            "grid_column": null,
            "grid_gap": null,
            "grid_row": null,
            "grid_template_areas": null,
            "grid_template_columns": null,
            "grid_template_rows": null,
            "height": null,
            "justify_content": null,
            "justify_items": null,
            "left": null,
            "margin": null,
            "max_height": null,
            "max_width": null,
            "min_height": null,
            "min_width": null,
            "object_fit": null,
            "object_position": null,
            "order": null,
            "overflow": null,
            "overflow_x": null,
            "overflow_y": null,
            "padding": null,
            "right": null,
            "top": null,
            "visibility": null,
            "width": null
          }
        },
        "21a43684802e417b8fd319e768af118e": {
          "model_module": "@jupyter-widgets/controls",
          "model_module_version": "1.5.0",
          "model_name": "FloatProgressModel",
          "state": {
            "_dom_classes": [],
            "_model_module": "@jupyter-widgets/controls",
            "_model_module_version": "1.5.0",
            "_model_name": "FloatProgressModel",
            "_view_count": null,
            "_view_module": "@jupyter-widgets/controls",
            "_view_module_version": "1.5.0",
            "_view_name": "ProgressView",
            "bar_style": "success",
            "description": "",
            "description_tooltip": null,
            "layout": "IPY_MODEL_5939f4d99ead44dbb58c5c225c71a9de",
            "max": 9912422,
            "min": 0,
            "orientation": "horizontal",
            "style": "IPY_MODEL_0328897db9f74321b0ccc3123afc0c93",
            "value": 9912422
          }
        },
        "235aeda6cb59442085816804e21767ae": {
          "model_module": "@jupyter-widgets/base",
          "model_module_version": "1.2.0",
          "model_name": "LayoutModel",
          "state": {
            "_model_module": "@jupyter-widgets/base",
            "_model_module_version": "1.2.0",
            "_model_name": "LayoutModel",
            "_view_count": null,
            "_view_module": "@jupyter-widgets/base",
            "_view_module_version": "1.2.0",
            "_view_name": "LayoutView",
            "align_content": null,
            "align_items": null,
            "align_self": null,
            "border": null,
            "bottom": null,
            "display": null,
            "flex": null,
            "flex_flow": null,
            "grid_area": null,
            "grid_auto_columns": null,
            "grid_auto_flow": null,
            "grid_auto_rows": null,
            "grid_column": null,
            "grid_gap": null,
            "grid_row": null,
            "grid_template_areas": null,
            "grid_template_columns": null,
            "grid_template_rows": null,
            "height": null,
            "justify_content": null,
            "justify_items": null,
            "left": null,
            "margin": null,
            "max_height": null,
            "max_width": null,
            "min_height": null,
            "min_width": null,
            "object_fit": null,
            "object_position": null,
            "order": null,
            "overflow": null,
            "overflow_x": null,
            "overflow_y": null,
            "padding": null,
            "right": null,
            "top": null,
            "visibility": null,
            "width": null
          }
        },
        "2f63fbe8bea74cacb56410a61cadd959": {
          "model_module": "@jupyter-widgets/controls",
          "model_module_version": "1.5.0",
          "model_name": "HTMLModel",
          "state": {
            "_dom_classes": [],
            "_model_module": "@jupyter-widgets/controls",
            "_model_module_version": "1.5.0",
            "_model_name": "HTMLModel",
            "_view_count": null,
            "_view_module": "@jupyter-widgets/controls",
            "_view_module_version": "1.5.0",
            "_view_name": "HTMLView",
            "description": "",
            "description_tooltip": null,
            "layout": "IPY_MODEL_1e1a59f79fce4e60ba8a16fcf6385f93",
            "placeholder": "​",
            "style": "IPY_MODEL_a0f42312fc4b4c06994bf2541bf1a03a",
            "value": " 1648877/1648877 [00:00&lt;00:00, 46229220.57it/s]"
          }
        },
        "3d3fa09e8afc487287613f4fbd5e3581": {
          "model_module": "@jupyter-widgets/controls",
          "model_module_version": "1.5.0",
          "model_name": "HBoxModel",
          "state": {
            "_dom_classes": [],
            "_model_module": "@jupyter-widgets/controls",
            "_model_module_version": "1.5.0",
            "_model_name": "HBoxModel",
            "_view_count": null,
            "_view_module": "@jupyter-widgets/controls",
            "_view_module_version": "1.5.0",
            "_view_name": "HBoxView",
            "box_style": "",
            "children": [
              "IPY_MODEL_195b496a2b554bb8a19fc676858e182c",
              "IPY_MODEL_8eeacea8ccc34f2b92113000aaf59356",
              "IPY_MODEL_02e560d449bc4361b05e5ee969e03627"
            ],
            "layout": "IPY_MODEL_e2dd0a7acff94faaa04c3d7b0cd61d93"
          }
        },
        "40194f0c647e4acba4bbae161dba9f47": {
          "model_module": "@jupyter-widgets/controls",
          "model_module_version": "1.5.0",
          "model_name": "DescriptionStyleModel",
          "state": {
            "_model_module": "@jupyter-widgets/controls",
            "_model_module_version": "1.5.0",
            "_model_name": "DescriptionStyleModel",
            "_view_count": null,
            "_view_module": "@jupyter-widgets/base",
            "_view_module_version": "1.2.0",
            "_view_name": "StyleView",
            "description_width": ""
          }
        },
        "4a59336462d74719897b0b4904168c89": {
          "model_module": "@jupyter-widgets/controls",
          "model_module_version": "1.5.0",
          "model_name": "ProgressStyleModel",
          "state": {
            "_model_module": "@jupyter-widgets/controls",
            "_model_module_version": "1.5.0",
            "_model_name": "ProgressStyleModel",
            "_view_count": null,
            "_view_module": "@jupyter-widgets/base",
            "_view_module_version": "1.2.0",
            "_view_name": "StyleView",
            "bar_color": null,
            "description_width": ""
          }
        },
        "51e3cb57f8ac40b2b0b2083e7e26b2be": {
          "model_module": "@jupyter-widgets/controls",
          "model_module_version": "1.5.0",
          "model_name": "FloatProgressModel",
          "state": {
            "_dom_classes": [],
            "_model_module": "@jupyter-widgets/controls",
            "_model_module_version": "1.5.0",
            "_model_name": "FloatProgressModel",
            "_view_count": null,
            "_view_module": "@jupyter-widgets/controls",
            "_view_module_version": "1.5.0",
            "_view_name": "ProgressView",
            "bar_style": "success",
            "description": "",
            "description_tooltip": null,
            "layout": "IPY_MODEL_0625a4af12d14d4ca86349628ac59b82",
            "max": 4542,
            "min": 0,
            "orientation": "horizontal",
            "style": "IPY_MODEL_6d5623820eca4c5f99e0a31137404fd1",
            "value": 4542
          }
        },
        "5939f4d99ead44dbb58c5c225c71a9de": {
          "model_module": "@jupyter-widgets/base",
          "model_module_version": "1.2.0",
          "model_name": "LayoutModel",
          "state": {
            "_model_module": "@jupyter-widgets/base",
            "_model_module_version": "1.2.0",
            "_model_name": "LayoutModel",
            "_view_count": null,
            "_view_module": "@jupyter-widgets/base",
            "_view_module_version": "1.2.0",
            "_view_name": "LayoutView",
            "align_content": null,
            "align_items": null,
            "align_self": null,
            "border": null,
            "bottom": null,
            "display": null,
            "flex": null,
            "flex_flow": null,
            "grid_area": null,
            "grid_auto_columns": null,
            "grid_auto_flow": null,
            "grid_auto_rows": null,
            "grid_column": null,
            "grid_gap": null,
            "grid_row": null,
            "grid_template_areas": null,
            "grid_template_columns": null,
            "grid_template_rows": null,
            "height": null,
            "justify_content": null,
            "justify_items": null,
            "left": null,
            "margin": null,
            "max_height": null,
            "max_width": null,
            "min_height": null,
            "min_width": null,
            "object_fit": null,
            "object_position": null,
            "order": null,
            "overflow": null,
            "overflow_x": null,
            "overflow_y": null,
            "padding": null,
            "right": null,
            "top": null,
            "visibility": null,
            "width": null
          }
        },
        "6025174029b445d497af107e45bcef34": {
          "model_module": "@jupyter-widgets/controls",
          "model_module_version": "1.5.0",
          "model_name": "DescriptionStyleModel",
          "state": {
            "_model_module": "@jupyter-widgets/controls",
            "_model_module_version": "1.5.0",
            "_model_name": "DescriptionStyleModel",
            "_view_count": null,
            "_view_module": "@jupyter-widgets/base",
            "_view_module_version": "1.2.0",
            "_view_name": "StyleView",
            "description_width": ""
          }
        },
        "6d5623820eca4c5f99e0a31137404fd1": {
          "model_module": "@jupyter-widgets/controls",
          "model_module_version": "1.5.0",
          "model_name": "ProgressStyleModel",
          "state": {
            "_model_module": "@jupyter-widgets/controls",
            "_model_module_version": "1.5.0",
            "_model_name": "ProgressStyleModel",
            "_view_count": null,
            "_view_module": "@jupyter-widgets/base",
            "_view_module_version": "1.2.0",
            "_view_name": "StyleView",
            "bar_color": null,
            "description_width": ""
          }
        },
        "81ad60afdb6c49ee8320cf6b6c717a4b": {
          "model_module": "@jupyter-widgets/base",
          "model_module_version": "1.2.0",
          "model_name": "LayoutModel",
          "state": {
            "_model_module": "@jupyter-widgets/base",
            "_model_module_version": "1.2.0",
            "_model_name": "LayoutModel",
            "_view_count": null,
            "_view_module": "@jupyter-widgets/base",
            "_view_module_version": "1.2.0",
            "_view_name": "LayoutView",
            "align_content": null,
            "align_items": null,
            "align_self": null,
            "border": null,
            "bottom": null,
            "display": null,
            "flex": null,
            "flex_flow": null,
            "grid_area": null,
            "grid_auto_columns": null,
            "grid_auto_flow": null,
            "grid_auto_rows": null,
            "grid_column": null,
            "grid_gap": null,
            "grid_row": null,
            "grid_template_areas": null,
            "grid_template_columns": null,
            "grid_template_rows": null,
            "height": null,
            "justify_content": null,
            "justify_items": null,
            "left": null,
            "margin": null,
            "max_height": null,
            "max_width": null,
            "min_height": null,
            "min_width": null,
            "object_fit": null,
            "object_position": null,
            "order": null,
            "overflow": null,
            "overflow_x": null,
            "overflow_y": null,
            "padding": null,
            "right": null,
            "top": null,
            "visibility": null,
            "width": null
          }
        },
        "84ad84d823134e85bfe8241336730e91": {
          "model_module": "@jupyter-widgets/controls",
          "model_module_version": "1.5.0",
          "model_name": "HTMLModel",
          "state": {
            "_dom_classes": [],
            "_model_module": "@jupyter-widgets/controls",
            "_model_module_version": "1.5.0",
            "_model_name": "HTMLModel",
            "_view_count": null,
            "_view_module": "@jupyter-widgets/controls",
            "_view_module_version": "1.5.0",
            "_view_name": "HTMLView",
            "description": "",
            "description_tooltip": null,
            "layout": "IPY_MODEL_a6b21f4e19dd4f85a12aa27c1e071090",
            "placeholder": "​",
            "style": "IPY_MODEL_04666e9c60cf4ac383ead13a4623b65d",
            "value": "100%"
          }
        },
        "8ea2a44e23e04c5b90b4452a52fcca77": {
          "model_module": "@jupyter-widgets/controls",
          "model_module_version": "1.5.0",
          "model_name": "HTMLModel",
          "state": {
            "_dom_classes": [],
            "_model_module": "@jupyter-widgets/controls",
            "_model_module_version": "1.5.0",
            "_model_name": "HTMLModel",
            "_view_count": null,
            "_view_module": "@jupyter-widgets/controls",
            "_view_module_version": "1.5.0",
            "_view_name": "HTMLView",
            "description": "",
            "description_tooltip": null,
            "layout": "IPY_MODEL_abeb970b67d34ad3b3008c6b95cec0b0",
            "placeholder": "​",
            "style": "IPY_MODEL_fd478c08f8634d408484de2cb727ac71",
            "value": "100%"
          }
        },
        "8eeacea8ccc34f2b92113000aaf59356": {
          "model_module": "@jupyter-widgets/controls",
          "model_module_version": "1.5.0",
          "model_name": "FloatProgressModel",
          "state": {
            "_dom_classes": [],
            "_model_module": "@jupyter-widgets/controls",
            "_model_module_version": "1.5.0",
            "_model_name": "FloatProgressModel",
            "_view_count": null,
            "_view_module": "@jupyter-widgets/controls",
            "_view_module_version": "1.5.0",
            "_view_name": "ProgressView",
            "bar_style": "success",
            "description": "",
            "description_tooltip": null,
            "layout": "IPY_MODEL_fb01be18e4b34f0fb6460715a6f1925c",
            "max": 28881,
            "min": 0,
            "orientation": "horizontal",
            "style": "IPY_MODEL_4a59336462d74719897b0b4904168c89",
            "value": 28881
          }
        },
        "953f4823d42e40da83a95f6c863a7d47": {
          "model_module": "@jupyter-widgets/controls",
          "model_module_version": "1.5.0",
          "model_name": "HBoxModel",
          "state": {
            "_dom_classes": [],
            "_model_module": "@jupyter-widgets/controls",
            "_model_module_version": "1.5.0",
            "_model_name": "HBoxModel",
            "_view_count": null,
            "_view_module": "@jupyter-widgets/controls",
            "_view_module_version": "1.5.0",
            "_view_name": "HBoxView",
            "box_style": "",
            "children": [
              "IPY_MODEL_84ad84d823134e85bfe8241336730e91",
              "IPY_MODEL_51e3cb57f8ac40b2b0b2083e7e26b2be",
              "IPY_MODEL_f4fdde410db54532b8272cce7a25edcd"
            ],
            "layout": "IPY_MODEL_d056784bc5fc4c91ba4f96f026d2a1b3"
          }
        },
        "9ada9ff55c794466b98e5b32c74ddcc7": {
          "model_module": "@jupyter-widgets/base",
          "model_module_version": "1.2.0",
          "model_name": "LayoutModel",
          "state": {
            "_model_module": "@jupyter-widgets/base",
            "_model_module_version": "1.2.0",
            "_model_name": "LayoutModel",
            "_view_count": null,
            "_view_module": "@jupyter-widgets/base",
            "_view_module_version": "1.2.0",
            "_view_name": "LayoutView",
            "align_content": null,
            "align_items": null,
            "align_self": null,
            "border": null,
            "bottom": null,
            "display": null,
            "flex": null,
            "flex_flow": null,
            "grid_area": null,
            "grid_auto_columns": null,
            "grid_auto_flow": null,
            "grid_auto_rows": null,
            "grid_column": null,
            "grid_gap": null,
            "grid_row": null,
            "grid_template_areas": null,
            "grid_template_columns": null,
            "grid_template_rows": null,
            "height": null,
            "justify_content": null,
            "justify_items": null,
            "left": null,
            "margin": null,
            "max_height": null,
            "max_width": null,
            "min_height": null,
            "min_width": null,
            "object_fit": null,
            "object_position": null,
            "order": null,
            "overflow": null,
            "overflow_x": null,
            "overflow_y": null,
            "padding": null,
            "right": null,
            "top": null,
            "visibility": null,
            "width": null
          }
        },
        "a0f42312fc4b4c06994bf2541bf1a03a": {
          "model_module": "@jupyter-widgets/controls",
          "model_module_version": "1.5.0",
          "model_name": "DescriptionStyleModel",
          "state": {
            "_model_module": "@jupyter-widgets/controls",
            "_model_module_version": "1.5.0",
            "_model_name": "DescriptionStyleModel",
            "_view_count": null,
            "_view_module": "@jupyter-widgets/base",
            "_view_module_version": "1.2.0",
            "_view_name": "StyleView",
            "description_width": ""
          }
        },
        "a5a9fa156d8c47b1a5533c46b72f56a5": {
          "model_module": "@jupyter-widgets/controls",
          "model_module_version": "1.5.0",
          "model_name": "HBoxModel",
          "state": {
            "_dom_classes": [],
            "_model_module": "@jupyter-widgets/controls",
            "_model_module_version": "1.5.0",
            "_model_name": "HBoxModel",
            "_view_count": null,
            "_view_module": "@jupyter-widgets/controls",
            "_view_module_version": "1.5.0",
            "_view_name": "HBoxView",
            "box_style": "",
            "children": [
              "IPY_MODEL_a655748bc6fa4b5794e5f325afefba71",
              "IPY_MODEL_21a43684802e417b8fd319e768af118e",
              "IPY_MODEL_126a3ca79d944e689309024e0e6eb1ba"
            ],
            "layout": "IPY_MODEL_e28f5cdb47ae420893deb584cc440442"
          }
        },
        "a655748bc6fa4b5794e5f325afefba71": {
          "model_module": "@jupyter-widgets/controls",
          "model_module_version": "1.5.0",
          "model_name": "HTMLModel",
          "state": {
            "_dom_classes": [],
            "_model_module": "@jupyter-widgets/controls",
            "_model_module_version": "1.5.0",
            "_model_name": "HTMLModel",
            "_view_count": null,
            "_view_module": "@jupyter-widgets/controls",
            "_view_module_version": "1.5.0",
            "_view_name": "HTMLView",
            "description": "",
            "description_tooltip": null,
            "layout": "IPY_MODEL_235aeda6cb59442085816804e21767ae",
            "placeholder": "​",
            "style": "IPY_MODEL_11ec0625d6f64b049bb7857295b69ba1",
            "value": "100%"
          }
        },
        "a6b21f4e19dd4f85a12aa27c1e071090": {
          "model_module": "@jupyter-widgets/base",
          "model_module_version": "1.2.0",
          "model_name": "LayoutModel",
          "state": {
            "_model_module": "@jupyter-widgets/base",
            "_model_module_version": "1.2.0",
            "_model_name": "LayoutModel",
            "_view_count": null,
            "_view_module": "@jupyter-widgets/base",
            "_view_module_version": "1.2.0",
            "_view_name": "LayoutView",
            "align_content": null,
            "align_items": null,
            "align_self": null,
            "border": null,
            "bottom": null,
            "display": null,
            "flex": null,
            "flex_flow": null,
            "grid_area": null,
            "grid_auto_columns": null,
            "grid_auto_flow": null,
            "grid_auto_rows": null,
            "grid_column": null,
            "grid_gap": null,
            "grid_row": null,
            "grid_template_areas": null,
            "grid_template_columns": null,
            "grid_template_rows": null,
            "height": null,
            "justify_content": null,
            "justify_items": null,
            "left": null,
            "margin": null,
            "max_height": null,
            "max_width": null,
            "min_height": null,
            "min_width": null,
            "object_fit": null,
            "object_position": null,
            "order": null,
            "overflow": null,
            "overflow_x": null,
            "overflow_y": null,
            "padding": null,
            "right": null,
            "top": null,
            "visibility": null,
            "width": null
          }
        },
        "a84ec37dc00b4705b1a13289ffa0459d": {
          "model_module": "@jupyter-widgets/base",
          "model_module_version": "1.2.0",
          "model_name": "LayoutModel",
          "state": {
            "_model_module": "@jupyter-widgets/base",
            "_model_module_version": "1.2.0",
            "_model_name": "LayoutModel",
            "_view_count": null,
            "_view_module": "@jupyter-widgets/base",
            "_view_module_version": "1.2.0",
            "_view_name": "LayoutView",
            "align_content": null,
            "align_items": null,
            "align_self": null,
            "border": null,
            "bottom": null,
            "display": null,
            "flex": null,
            "flex_flow": null,
            "grid_area": null,
            "grid_auto_columns": null,
            "grid_auto_flow": null,
            "grid_auto_rows": null,
            "grid_column": null,
            "grid_gap": null,
            "grid_row": null,
            "grid_template_areas": null,
            "grid_template_columns": null,
            "grid_template_rows": null,
            "height": null,
            "justify_content": null,
            "justify_items": null,
            "left": null,
            "margin": null,
            "max_height": null,
            "max_width": null,
            "min_height": null,
            "min_width": null,
            "object_fit": null,
            "object_position": null,
            "order": null,
            "overflow": null,
            "overflow_x": null,
            "overflow_y": null,
            "padding": null,
            "right": null,
            "top": null,
            "visibility": null,
            "width": null
          }
        },
        "abeb970b67d34ad3b3008c6b95cec0b0": {
          "model_module": "@jupyter-widgets/base",
          "model_module_version": "1.2.0",
          "model_name": "LayoutModel",
          "state": {
            "_model_module": "@jupyter-widgets/base",
            "_model_module_version": "1.2.0",
            "_model_name": "LayoutModel",
            "_view_count": null,
            "_view_module": "@jupyter-widgets/base",
            "_view_module_version": "1.2.0",
            "_view_name": "LayoutView",
            "align_content": null,
            "align_items": null,
            "align_self": null,
            "border": null,
            "bottom": null,
            "display": null,
            "flex": null,
            "flex_flow": null,
            "grid_area": null,
            "grid_auto_columns": null,
            "grid_auto_flow": null,
            "grid_auto_rows": null,
            "grid_column": null,
            "grid_gap": null,
            "grid_row": null,
            "grid_template_areas": null,
            "grid_template_columns": null,
            "grid_template_rows": null,
            "height": null,
            "justify_content": null,
            "justify_items": null,
            "left": null,
            "margin": null,
            "max_height": null,
            "max_width": null,
            "min_height": null,
            "min_width": null,
            "object_fit": null,
            "object_position": null,
            "order": null,
            "overflow": null,
            "overflow_x": null,
            "overflow_y": null,
            "padding": null,
            "right": null,
            "top": null,
            "visibility": null,
            "width": null
          }
        },
        "b8449f8fe6ba4ca6b1939832cb2e3376": {
          "model_module": "@jupyter-widgets/controls",
          "model_module_version": "1.5.0",
          "model_name": "DescriptionStyleModel",
          "state": {
            "_model_module": "@jupyter-widgets/controls",
            "_model_module_version": "1.5.0",
            "_model_name": "DescriptionStyleModel",
            "_view_count": null,
            "_view_module": "@jupyter-widgets/base",
            "_view_module_version": "1.2.0",
            "_view_name": "StyleView",
            "description_width": ""
          }
        },
        "d056784bc5fc4c91ba4f96f026d2a1b3": {
          "model_module": "@jupyter-widgets/base",
          "model_module_version": "1.2.0",
          "model_name": "LayoutModel",
          "state": {
            "_model_module": "@jupyter-widgets/base",
            "_model_module_version": "1.2.0",
            "_model_name": "LayoutModel",
            "_view_count": null,
            "_view_module": "@jupyter-widgets/base",
            "_view_module_version": "1.2.0",
            "_view_name": "LayoutView",
            "align_content": null,
            "align_items": null,
            "align_self": null,
            "border": null,
            "bottom": null,
            "display": null,
            "flex": null,
            "flex_flow": null,
            "grid_area": null,
            "grid_auto_columns": null,
            "grid_auto_flow": null,
            "grid_auto_rows": null,
            "grid_column": null,
            "grid_gap": null,
            "grid_row": null,
            "grid_template_areas": null,
            "grid_template_columns": null,
            "grid_template_rows": null,
            "height": null,
            "justify_content": null,
            "justify_items": null,
            "left": null,
            "margin": null,
            "max_height": null,
            "max_width": null,
            "min_height": null,
            "min_width": null,
            "object_fit": null,
            "object_position": null,
            "order": null,
            "overflow": null,
            "overflow_x": null,
            "overflow_y": null,
            "padding": null,
            "right": null,
            "top": null,
            "visibility": null,
            "width": null
          }
        },
        "d9e71cd64c3f4d798b87b7b903483da0": {
          "model_module": "@jupyter-widgets/controls",
          "model_module_version": "1.5.0",
          "model_name": "ProgressStyleModel",
          "state": {
            "_model_module": "@jupyter-widgets/controls",
            "_model_module_version": "1.5.0",
            "_model_name": "ProgressStyleModel",
            "_view_count": null,
            "_view_module": "@jupyter-widgets/base",
            "_view_module_version": "1.2.0",
            "_view_name": "StyleView",
            "bar_color": null,
            "description_width": ""
          }
        },
        "dfded9ba987343fd8d04846d5e554d7a": {
          "model_module": "@jupyter-widgets/controls",
          "model_module_version": "1.5.0",
          "model_name": "DescriptionStyleModel",
          "state": {
            "_model_module": "@jupyter-widgets/controls",
            "_model_module_version": "1.5.0",
            "_model_name": "DescriptionStyleModel",
            "_view_count": null,
            "_view_module": "@jupyter-widgets/base",
            "_view_module_version": "1.2.0",
            "_view_name": "StyleView",
            "description_width": ""
          }
        },
        "e21a856c474646b39349d7255bdd799e": {
          "model_module": "@jupyter-widgets/controls",
          "model_module_version": "1.5.0",
          "model_name": "FloatProgressModel",
          "state": {
            "_dom_classes": [],
            "_model_module": "@jupyter-widgets/controls",
            "_model_module_version": "1.5.0",
            "_model_name": "FloatProgressModel",
            "_view_count": null,
            "_view_module": "@jupyter-widgets/controls",
            "_view_module_version": "1.5.0",
            "_view_name": "ProgressView",
            "bar_style": "success",
            "description": "",
            "description_tooltip": null,
            "layout": "IPY_MODEL_1bf798cab20549fcb84ee0a824f7c494",
            "max": 1648877,
            "min": 0,
            "orientation": "horizontal",
            "style": "IPY_MODEL_d9e71cd64c3f4d798b87b7b903483da0",
            "value": 1648877
          }
        },
        "e28f5cdb47ae420893deb584cc440442": {
          "model_module": "@jupyter-widgets/base",
          "model_module_version": "1.2.0",
          "model_name": "LayoutModel",
          "state": {
            "_model_module": "@jupyter-widgets/base",
            "_model_module_version": "1.2.0",
            "_model_name": "LayoutModel",
            "_view_count": null,
            "_view_module": "@jupyter-widgets/base",
            "_view_module_version": "1.2.0",
            "_view_name": "LayoutView",
            "align_content": null,
            "align_items": null,
            "align_self": null,
            "border": null,
            "bottom": null,
            "display": null,
            "flex": null,
            "flex_flow": null,
            "grid_area": null,
            "grid_auto_columns": null,
            "grid_auto_flow": null,
            "grid_auto_rows": null,
            "grid_column": null,
            "grid_gap": null,
            "grid_row": null,
            "grid_template_areas": null,
            "grid_template_columns": null,
            "grid_template_rows": null,
            "height": null,
            "justify_content": null,
            "justify_items": null,
            "left": null,
            "margin": null,
            "max_height": null,
            "max_width": null,
            "min_height": null,
            "min_width": null,
            "object_fit": null,
            "object_position": null,
            "order": null,
            "overflow": null,
            "overflow_x": null,
            "overflow_y": null,
            "padding": null,
            "right": null,
            "top": null,
            "visibility": null,
            "width": null
          }
        },
        "e2dd0a7acff94faaa04c3d7b0cd61d93": {
          "model_module": "@jupyter-widgets/base",
          "model_module_version": "1.2.0",
          "model_name": "LayoutModel",
          "state": {
            "_model_module": "@jupyter-widgets/base",
            "_model_module_version": "1.2.0",
            "_model_name": "LayoutModel",
            "_view_count": null,
            "_view_module": "@jupyter-widgets/base",
            "_view_module_version": "1.2.0",
            "_view_name": "LayoutView",
            "align_content": null,
            "align_items": null,
            "align_self": null,
            "border": null,
            "bottom": null,
            "display": null,
            "flex": null,
            "flex_flow": null,
            "grid_area": null,
            "grid_auto_columns": null,
            "grid_auto_flow": null,
            "grid_auto_rows": null,
            "grid_column": null,
            "grid_gap": null,
            "grid_row": null,
            "grid_template_areas": null,
            "grid_template_columns": null,
            "grid_template_rows": null,
            "height": null,
            "justify_content": null,
            "justify_items": null,
            "left": null,
            "margin": null,
            "max_height": null,
            "max_width": null,
            "min_height": null,
            "min_width": null,
            "object_fit": null,
            "object_position": null,
            "order": null,
            "overflow": null,
            "overflow_x": null,
            "overflow_y": null,
            "padding": null,
            "right": null,
            "top": null,
            "visibility": null,
            "width": null
          }
        },
        "f4fdde410db54532b8272cce7a25edcd": {
          "model_module": "@jupyter-widgets/controls",
          "model_module_version": "1.5.0",
          "model_name": "HTMLModel",
          "state": {
            "_dom_classes": [],
            "_model_module": "@jupyter-widgets/controls",
            "_model_module_version": "1.5.0",
            "_model_name": "HTMLModel",
            "_view_count": null,
            "_view_module": "@jupyter-widgets/controls",
            "_view_module_version": "1.5.0",
            "_view_name": "HTMLView",
            "description": "",
            "description_tooltip": null,
            "layout": "IPY_MODEL_0ef2522ae4ef497981752ec8c03e7684",
            "placeholder": "​",
            "style": "IPY_MODEL_40194f0c647e4acba4bbae161dba9f47",
            "value": " 4542/4542 [00:00&lt;00:00, 155710.27it/s]"
          }
        },
        "fb01be18e4b34f0fb6460715a6f1925c": {
          "model_module": "@jupyter-widgets/base",
          "model_module_version": "1.2.0",
          "model_name": "LayoutModel",
          "state": {
            "_model_module": "@jupyter-widgets/base",
            "_model_module_version": "1.2.0",
            "_model_name": "LayoutModel",
            "_view_count": null,
            "_view_module": "@jupyter-widgets/base",
            "_view_module_version": "1.2.0",
            "_view_name": "LayoutView",
            "align_content": null,
            "align_items": null,
            "align_self": null,
            "border": null,
            "bottom": null,
            "display": null,
            "flex": null,
            "flex_flow": null,
            "grid_area": null,
            "grid_auto_columns": null,
            "grid_auto_flow": null,
            "grid_auto_rows": null,
            "grid_column": null,
            "grid_gap": null,
            "grid_row": null,
            "grid_template_areas": null,
            "grid_template_columns": null,
            "grid_template_rows": null,
            "height": null,
            "justify_content": null,
            "justify_items": null,
            "left": null,
            "margin": null,
            "max_height": null,
            "max_width": null,
            "min_height": null,
            "min_width": null,
            "object_fit": null,
            "object_position": null,
            "order": null,
            "overflow": null,
            "overflow_x": null,
            "overflow_y": null,
            "padding": null,
            "right": null,
            "top": null,
            "visibility": null,
            "width": null
          }
        },
        "fd478c08f8634d408484de2cb727ac71": {
          "model_module": "@jupyter-widgets/controls",
          "model_module_version": "1.5.0",
          "model_name": "DescriptionStyleModel",
          "state": {
            "_model_module": "@jupyter-widgets/controls",
            "_model_module_version": "1.5.0",
            "_model_name": "DescriptionStyleModel",
            "_view_count": null,
            "_view_module": "@jupyter-widgets/base",
            "_view_module_version": "1.2.0",
            "_view_name": "StyleView",
            "description_width": ""
          }
        }
      }
    }
  },
  "nbformat": 4,
  "nbformat_minor": 0
}
